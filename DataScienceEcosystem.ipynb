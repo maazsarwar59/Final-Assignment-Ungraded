{
  "metadata": {
    "kernelspec": {
      "name": "python",
      "display_name": "Python (Pyodide)",
      "language": "python"
    },
    "language_info": {
      "codemirror_mode": {
        "name": "python",
        "version": 3
      },
      "file_extension": ".py",
      "mimetype": "text/x-python",
      "name": "python",
      "nbconvert_exporter": "python",
      "pygments_lexer": "ipython3",
      "version": "3.8"
    }
  },
  "nbformat_minor": 5,
  "nbformat": 4,
  "cells": [
    {
      "id": "f859851a-0c57-41fc-8805-4c0a75a12aae",
      "cell_type": "markdown",
      "source": "# Data Science Tools and Ecosystem",
      "metadata": {}
    },
    {
      "id": "eae11e90-5973-4ec8-b3fd-c17b81e5c120",
      "cell_type": "markdown",
      "source": "# In this notebook, Data Science Tools and Ecosystem are summarized\n# You will find an overview of commonly used languages, tools, and libraries in the field of data science, as well as some practical examples and insights into how they are applied in real-world scenarios.\n",
      "metadata": {}
    },
    {
      "id": "d6815d21-d9f8-45d2-aa28-7bb6acaf866a",
      "cell_type": "markdown",
      "source": "# Some of the popular languages that Data Scientists use are:\n1. Python\n2. R\n3. SQL",
      "metadata": {}
    },
    {
      "id": "f1205af5-a421-4056-864c-7ff9fd2bfbe8",
      "cell_type": "markdown",
      "source": "# Some of the commonly used libraries used by Data Scientists include:\n1. NumPy  \n2. Pandas  \n3. Matplotlib  \n4. Scikit-learn  \n5. TensorFlow",
      "metadata": {}
    },
    {
      "id": "ea7ce2e9-32a5-4b8b-a2b6-b94e7c533432",
      "cell_type": "markdown",
      "source": "| Data Science Tools        |\n|---------------------------|\n| Jupyter Notebook          |\n| RStudio                   |\n| VS Code                   |\n",
      "metadata": {}
    },
    {
      "id": "89f00027-038d-46e1-9452-47c7fed34960",
      "cell_type": "markdown",
      "source": "### Below are a few examples of evaluating arithmetic expressions in Python\n",
      "metadata": {}
    },
    {
      "id": "28150ac1-0aed-40fb-91e4-06ef4fca3729",
      "cell_type": "code",
      "source": "# This is a simple arithmetic expression to multiply then add integers\n(3 * 4) + 5\n",
      "metadata": {
        "trusted": true
      },
      "outputs": [
        {
          "execution_count": 1,
          "output_type": "execute_result",
          "data": {
            "text/plain": "17"
          },
          "metadata": {}
        }
      ],
      "execution_count": 1
    },
    {
      "id": "5073075e-ddd8-4b95-95b2-3859a6756aaa",
      "cell_type": "code",
      "source": "# This will convert 200 minutes to hours by dividing by 60\n200 / 60\n",
      "metadata": {
        "trusted": true
      },
      "outputs": [
        {
          "execution_count": 2,
          "output_type": "execute_result",
          "data": {
            "text/plain": "3.3333333333333335"
          },
          "metadata": {}
        }
      ],
      "execution_count": 2
    },
    {
      "id": "07cb9736-d44c-4d4b-bb1e-47044ad06178",
      "cell_type": "markdown",
      "source": "**Objectives:**\n\n- List popular languages for Data Science  \n- Identify commonly used Data Science libraries  \n- Demonstrate basic arithmetic expressions in Python  \n- Convert minutes into hours using Python code  \n- Create tables and lists in markdown cells\n",
      "metadata": {}
    },
    {
      "id": "e6716b4c-ce25-47c4-8171-0a9a012ecb54",
      "cell_type": "code",
      "source": "",
      "metadata": {
        "trusted": true
      },
      "outputs": [],
      "execution_count": null
    }
  ]
}